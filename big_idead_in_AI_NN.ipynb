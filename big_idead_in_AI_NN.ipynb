{
  "cells": [
    {
      "cell_type": "markdown",
      "metadata": {
        "id": "view-in-github",
        "colab_type": "text"
      },
      "source": [
        "<a href=\"https://colab.research.google.com/github/ShakilAhmedSumon/big_ideas_in_AI/blob/main/big_idead_in_AI_NN.ipynb\" target=\"_parent\"><img src=\"https://colab.research.google.com/assets/colab-badge.svg\" alt=\"Open In Colab\"/></a>"
      ]
    },
    {
      "cell_type": "code",
      "execution_count": 1,
      "metadata": {
        "id": "SdJEYlofwZZd"
      },
      "outputs": [],
      "source": [
        "%matplotlib inline"
      ]
    },
    {
      "cell_type": "markdown",
      "metadata": {
        "id": "u4QTioCNwZZe"
      },
      "source": [
        "\n",
        "[Learn the Basics](intro.html) ||\n",
        "**Quickstart** ||\n",
        "[Tensors](tensorqs_tutorial.html) ||\n",
        "[Datasets & DataLoaders](data_tutorial.html) ||\n",
        "[Transforms](transforms_tutorial.html) ||\n",
        "[Build Model](buildmodel_tutorial.html) ||\n",
        "[Autograd](autogradqs_tutorial.html) ||\n",
        "[Optimization](optimization_tutorial.html) ||\n",
        "[Save & Load Model](saveloadrun_tutorial.html)\n",
        "\n",
        "# Quickstart\n",
        "This section runs through the API for common tasks in machine learning. Refer to the links in each section to dive deeper.\n",
        "\n",
        "## Working with data\n",
        "PyTorch has two [primitives to work with data](https://pytorch.org/docs/stable/data.html):\n",
        "``torch.utils.data.DataLoader`` and ``torch.utils.data.Dataset``.\n",
        "``Dataset`` stores the samples and their corresponding labels, and ``DataLoader`` wraps an iterable around\n",
        "the ``Dataset``.\n"
      ]
    },
    {
      "cell_type": "code",
      "execution_count": 2,
      "metadata": {
        "id": "D2rJ9b9FwZZf"
      },
      "outputs": [],
      "source": [
        "import torch\n",
        "from torch import nn\n",
        "from torch.utils.data import DataLoader\n",
        "from torchvision import datasets\n",
        "from torchvision.transforms import ToTensor"
      ]
    },
    {
      "cell_type": "markdown",
      "metadata": {
        "id": "55NbYMC6wZZf"
      },
      "source": [
        "PyTorch offers domain-specific libraries such as [TorchText](https://pytorch.org/text/stable/index.html),\n",
        "[TorchVision](https://pytorch.org/vision/stable/index.html), and [TorchAudio](https://pytorch.org/audio/stable/index.html),\n",
        "all of which include datasets. For this tutorial, we  will be using a TorchVision dataset.\n",
        "\n",
        "The ``torchvision.datasets`` module contains ``Dataset`` objects for many real-world vision data like\n",
        "CIFAR, COCO ([full list here](https://pytorch.org/vision/stable/datasets.html)). In this tutorial, we\n",
        "use the FashionMNIST dataset. Every TorchVision ``Dataset`` includes two arguments: ``transform`` and\n",
        "``target_transform`` to modify the samples and labels respectively.\n",
        "\n"
      ]
    },
    {
      "cell_type": "code",
      "execution_count": 3,
      "metadata": {
        "id": "AJL49VqLwZZf"
      },
      "outputs": [],
      "source": [
        "# Download training data from open datasets.\n",
        "training_data = datasets.FashionMNIST(\n",
        "    root=\"data\",\n",
        "    train=True,\n",
        "    download=True,\n",
        "    transform=ToTensor(),\n",
        ")\n",
        "\n",
        "# Download test data from open datasets.\n",
        "test_data = datasets.FashionMNIST(\n",
        "    root=\"data\",\n",
        "    train=False,\n",
        "    download=True,\n",
        "    transform=ToTensor(),\n",
        ")"
      ]
    },
    {
      "cell_type": "markdown",
      "metadata": {
        "id": "B2IgN4ZAwZZf"
      },
      "source": [
        "We pass the ``Dataset`` as an argument to ``DataLoader``. This wraps an iterable over our dataset, and supports\n",
        "automatic batching, sampling, shuffling and multiprocess data loading. Here we define a batch size of 64, i.e. each element\n",
        "in the dataloader iterable will return a batch of 64 features and labels.\n",
        "\n"
      ]
    },
    {
      "cell_type": "code",
      "execution_count": 4,
      "metadata": {
        "colab": {
          "base_uri": "https://localhost:8080/"
        },
        "id": "RIvJVFE7wZZg",
        "outputId": "39d1962a-3e7f-4a1a-86d5-3218b0d14bea"
      },
      "outputs": [
        {
          "output_type": "stream",
          "name": "stdout",
          "text": [
            "Shape of X [N, C, H, W]: torch.Size([100, 1, 28, 28])\n",
            "Shape of y: torch.Size([100]) torch.int64\n"
          ]
        }
      ],
      "source": [
        "batch_size = 100 # defining a batch size of 100 for the assignment testing purpose\n",
        "\n",
        "# Create data loaders.\n",
        "train_dataloader = DataLoader(training_data, batch_size=batch_size)\n",
        "test_dataloader = DataLoader(test_data, batch_size=batch_size)\n",
        "\n",
        "for X, y in test_dataloader:\n",
        "    print(f\"Shape of X [N, C, H, W]: {X.shape}\")\n",
        "    print(f\"Shape of y: {y.shape} {y.dtype}\")\n",
        "    break"
      ]
    },
    {
      "cell_type": "markdown",
      "metadata": {
        "id": "YDBt-JV9wZZg"
      },
      "source": [
        "Read more about [loading data in PyTorch](data_tutorial.html).\n",
        "\n",
        "\n"
      ]
    },
    {
      "cell_type": "markdown",
      "metadata": {
        "id": "omV6QEVNwZZg"
      },
      "source": [
        "--------------\n",
        "\n",
        "\n"
      ]
    },
    {
      "cell_type": "markdown",
      "metadata": {
        "id": "S8wkkQDfwZZg"
      },
      "source": [
        "## Creating Models\n",
        "To define a neural network in PyTorch, we create a class that inherits\n",
        "from [nn.Module](https://pytorch.org/docs/stable/generated/torch.nn.Module.html). We define the layers of the network\n",
        "in the ``__init__`` function and specify how data will pass through the network in the ``forward`` function. To accelerate\n",
        "operations in the neural network, we move it to the GPU if available.\n",
        "\n"
      ]
    },
    {
      "cell_type": "code",
      "execution_count": 5,
      "metadata": {
        "colab": {
          "base_uri": "https://localhost:8080/"
        },
        "id": "mrijwZVkwZZg",
        "outputId": "7a28e07e-7e51-45a4-caf0-1a1b1e22af37"
      },
      "outputs": [
        {
          "output_type": "stream",
          "name": "stdout",
          "text": [
            "Using cpu device\n",
            "NeuralNetwork(\n",
            "  (flatten): Flatten(start_dim=1, end_dim=-1)\n",
            "  (linear_relu_stack): Sequential(\n",
            "    (0): Linear(in_features=784, out_features=512, bias=True)\n",
            "    (1): ReLU()\n",
            "    (2): Linear(in_features=512, out_features=512, bias=True)\n",
            "    (3): ReLU()\n",
            "    (4): Linear(in_features=512, out_features=10, bias=True)\n",
            "  )\n",
            ")\n"
          ]
        }
      ],
      "source": [
        "# Get cpu or gpu device for training.\n",
        "device = \"cuda\" if torch.cuda.is_available() else \"cpu\"\n",
        "print(f\"Using {device} device\")\n",
        "\n",
        "# Define arch1 model\n",
        "class NeuralNetwork(nn.Module):\n",
        "    def __init__(self):\n",
        "        super().__init__()\n",
        "        self.flatten = nn.Flatten()\n",
        "        self.linear_relu_stack = nn.Sequential(\n",
        "            nn.Linear(28*28, 512),\n",
        "            nn.ReLU(),\n",
        "            nn.Linear(512, 512),\n",
        "            nn.ReLU(),\n",
        "            nn.Linear(512, 10)\n",
        "        )\n",
        "\n",
        "    def forward(self, x):\n",
        "        x = self.flatten(x)\n",
        "        logits = self.linear_relu_stack(x)\n",
        "        return logits\n",
        "\n",
        "arch1 = NeuralNetwork().to(device)\n",
        "print(arch1)"
      ]
    },
    {
      "cell_type": "code",
      "source": [
        "# Get cpu or gpu device for training.\n",
        "device = \"cuda\" if torch.cuda.is_available() else \"cpu\"\n",
        "print(f\"Using {device} device\")\n",
        "\n",
        "# Define arch2 model\n",
        "class NeuralNetwork(nn.Module):\n",
        "    def __init__(self):\n",
        "        super().__init__()\n",
        "        self.flatten = nn.Flatten()\n",
        "        self.linear_relu_stack = nn.Sequential(\n",
        "            nn.Linear(28*28, 512),\n",
        "            nn.ReLU(),\n",
        "            nn.Linear(512, 512),\n",
        "            nn.ReLU(),\n",
        "            nn.Linear(512, 512),\n",
        "            nn.ReLU(),\n",
        "            nn.Linear(512, 10)\n",
        "        )\n",
        "\n",
        "    def forward(self, x):\n",
        "        x = self.flatten(x)\n",
        "        logits = self.linear_relu_stack(x)\n",
        "        return logits\n",
        "\n",
        "arch2 = NeuralNetwork().to(device)\n",
        "print(arch2)"
      ],
      "metadata": {
        "colab": {
          "base_uri": "https://localhost:8080/"
        },
        "id": "7MgPqg-5JTqJ",
        "outputId": "5ac5e610-d558-440d-9ba8-f95296b182c8"
      },
      "execution_count": 6,
      "outputs": [
        {
          "output_type": "stream",
          "name": "stdout",
          "text": [
            "Using cpu device\n",
            "NeuralNetwork(\n",
            "  (flatten): Flatten(start_dim=1, end_dim=-1)\n",
            "  (linear_relu_stack): Sequential(\n",
            "    (0): Linear(in_features=784, out_features=512, bias=True)\n",
            "    (1): ReLU()\n",
            "    (2): Linear(in_features=512, out_features=512, bias=True)\n",
            "    (3): ReLU()\n",
            "    (4): Linear(in_features=512, out_features=512, bias=True)\n",
            "    (5): ReLU()\n",
            "    (6): Linear(in_features=512, out_features=10, bias=True)\n",
            "  )\n",
            ")\n"
          ]
        }
      ]
    },
    {
      "cell_type": "code",
      "source": [
        "# Get cpu or gpu device for training.\n",
        "device = \"cuda\" if torch.cuda.is_available() else \"cpu\"\n",
        "print(f\"Using {device} device\")\n",
        "\n",
        "# Define arch3 model\n",
        "class NeuralNetwork(nn.Module):\n",
        "    def __init__(self):\n",
        "        super().__init__()\n",
        "        self.flatten = nn.Flatten()\n",
        "        self.linear_relu_stack = nn.Sequential(\n",
        "            nn.Linear(28*28, 512),\n",
        "            nn.ReLU(),\n",
        "            nn.Linear(512, 10)\n",
        "        )\n",
        "\n",
        "    def forward(self, x):\n",
        "        x = self.flatten(x)\n",
        "        logits = self.linear_relu_stack(x)\n",
        "        return logits\n",
        "\n",
        "arch3 = NeuralNetwork().to(device)\n",
        "print(arch3)"
      ],
      "metadata": {
        "colab": {
          "base_uri": "https://localhost:8080/"
        },
        "id": "mDOjCu3dJqy1",
        "outputId": "95092fea-6aac-4957-b67d-cd525b7e3b32"
      },
      "execution_count": 7,
      "outputs": [
        {
          "output_type": "stream",
          "name": "stdout",
          "text": [
            "Using cpu device\n",
            "NeuralNetwork(\n",
            "  (flatten): Flatten(start_dim=1, end_dim=-1)\n",
            "  (linear_relu_stack): Sequential(\n",
            "    (0): Linear(in_features=784, out_features=512, bias=True)\n",
            "    (1): ReLU()\n",
            "    (2): Linear(in_features=512, out_features=10, bias=True)\n",
            "  )\n",
            ")\n"
          ]
        }
      ]
    },
    {
      "cell_type": "code",
      "source": [
        "# Get cpu or gpu device for training.\n",
        "device = \"cuda\" if torch.cuda.is_available() else \"cpu\"\n",
        "print(f\"Using {device} device\")\n",
        "\n",
        "# Define arch4 model\n",
        "class NeuralNetwork(nn.Module):\n",
        "    def __init__(self):\n",
        "        super().__init__()\n",
        "        self.flatten = nn.Flatten()\n",
        "        self.linear_relu_stack = nn.Sequential(\n",
        "            nn.Linear(28*28, 512),\n",
        "            nn.ReLU(),\n",
        "            nn.Linear(512, 1024),\n",
        "            nn.ReLU(),\n",
        "            nn.Linear(1024, 512),\n",
        "            nn.ReLU(),\n",
        "            nn.Linear(512, 10)\n",
        "        )\n",
        "\n",
        "    def forward(self, x):\n",
        "        x = self.flatten(x)\n",
        "        logits = self.linear_relu_stack(x)\n",
        "        return logits\n",
        "\n",
        "arch4 = NeuralNetwork().to(device)\n",
        "print(arch4)"
      ],
      "metadata": {
        "colab": {
          "base_uri": "https://localhost:8080/"
        },
        "id": "l1pBHhxSJ5-f",
        "outputId": "8438c5b0-45d4-4e14-eb21-7d4955950e26"
      },
      "execution_count": 8,
      "outputs": [
        {
          "output_type": "stream",
          "name": "stdout",
          "text": [
            "Using cpu device\n",
            "NeuralNetwork(\n",
            "  (flatten): Flatten(start_dim=1, end_dim=-1)\n",
            "  (linear_relu_stack): Sequential(\n",
            "    (0): Linear(in_features=784, out_features=512, bias=True)\n",
            "    (1): ReLU()\n",
            "    (2): Linear(in_features=512, out_features=1024, bias=True)\n",
            "    (3): ReLU()\n",
            "    (4): Linear(in_features=1024, out_features=512, bias=True)\n",
            "    (5): ReLU()\n",
            "    (6): Linear(in_features=512, out_features=10, bias=True)\n",
            "  )\n",
            ")\n"
          ]
        }
      ]
    },
    {
      "cell_type": "markdown",
      "metadata": {
        "id": "-yPtKw1WwZZg"
      },
      "source": [
        "Read more about [building neural networks in PyTorch](buildmodel_tutorial.html).\n",
        "\n",
        "\n"
      ]
    },
    {
      "cell_type": "markdown",
      "metadata": {
        "id": "RB6s5k8zwZZh"
      },
      "source": [
        "--------------\n",
        "\n",
        "\n"
      ]
    },
    {
      "cell_type": "markdown",
      "metadata": {
        "id": "Fw0NYusuwZZh"
      },
      "source": [
        "## Optimizing the Model Parameters\n",
        "To train a model, we need a [loss function](https://pytorch.org/docs/stable/nn.html#loss-functions)\n",
        "and an [optimizer](https://pytorch.org/docs/stable/optim.html).\n",
        "\n"
      ]
    },
    {
      "cell_type": "code",
      "execution_count": 33,
      "metadata": {
        "id": "gZa9-06CwZZh"
      },
      "outputs": [],
      "source": [
        "loss_fn = nn.CrossEntropyLoss()\n",
        "optimizer = torch.optim.SGD(arch4.parameters(), lr=1e-3)"
      ]
    },
    {
      "cell_type": "markdown",
      "metadata": {
        "id": "LaE7rCY2wZZh"
      },
      "source": [
        "In a single training loop, the model makes predictions on the training dataset (fed to it in batches), and\n",
        "backpropagates the prediction error to adjust the model's parameters.\n",
        "\n"
      ]
    },
    {
      "cell_type": "code",
      "execution_count": 25,
      "metadata": {
        "id": "TWccSRXNwZZh"
      },
      "outputs": [],
      "source": [
        "import time\n",
        "def train(dataloader, model, loss_fn, optimizer):\n",
        "    size = len(dataloader.dataset)\n",
        "    model.train()\n",
        "    # torch.cuda.synchronize()\n",
        "    times = []\n",
        "    for batch, (X, y) in enumerate(dataloader):\n",
        "        X, y = X.to(device), y.to(device)\n",
        "\n",
        "        # Compute prediction error\n",
        "        pred = model(X)\n",
        "        loss = loss_fn(pred, y)\n",
        "\n",
        "        # Backpropagation\n",
        "        optimizer.zero_grad()\n",
        "        loss.backward()\n",
        "        optimizer.step()\n",
        "        \n",
        "\n",
        "        if batch % 100 == 0:\n",
        "            loss, current = loss.item(), batch * len(X)\n",
        "            print(f\"loss: {loss:>7f}  [{current:>5d}/{size:>5d}]\")\n",
        "    "
      ]
    },
    {
      "cell_type": "markdown",
      "metadata": {
        "id": "AnIaVKjzwZZh"
      },
      "source": [
        "We also check the model's performance against the test dataset to ensure it is learning.\n",
        "\n"
      ]
    },
    {
      "cell_type": "code",
      "execution_count": 24,
      "metadata": {
        "id": "J4Adfw5bwZZh"
      },
      "outputs": [],
      "source": [
        "def test(dataloader, model, loss_fn):\n",
        "    size = len(dataloader.dataset)\n",
        "    num_batches = len(dataloader)\n",
        "    model.eval()\n",
        "    test_loss, correct = 0, 0\n",
        "    with torch.no_grad():\n",
        "        for X, y in dataloader:\n",
        "            X, y = X.to(device), y.to(device)\n",
        "            pred = model(X)\n",
        "            test_loss += loss_fn(pred, y).item()\n",
        "            correct += (pred.argmax(1) == y).type(torch.float).sum().item()\n",
        "    test_loss /= num_batches\n",
        "    correct /= size\n",
        "    print(f\"Test Error: \\n Accuracy: {(100*correct):>0.1f}%, Avg loss: {test_loss:>8f} \\n\")"
      ]
    },
    {
      "cell_type": "code",
      "source": [
        "def test_on_100(dataloader, model): # this function tests the performance of the model in first 100 test images \n",
        "    model.eval()\n",
        "    test_loss, correct = 0, 0\n",
        "    with torch.no_grad():\n",
        "        for X, y in dataloader:\n",
        "            X, y = X.to(device), y.to(device)\n",
        "            pred = model(X)\n",
        "            correct += (pred.argmax(1) == y).type(torch.float).sum().item()\n",
        "            break\n",
        "    print(\"Correct: \" + str(correct))\n",
        "    # print(correct/100)\n",
        "    # print(1- correct/100)\n",
        "    print(\"MCR: \" + str(1 - correct/100))\n",
        "\n",
        "  "
      ],
      "metadata": {
        "id": "UfsldVnBz0Aq"
      },
      "execution_count": 11,
      "outputs": []
    },
    {
      "cell_type": "markdown",
      "metadata": {
        "id": "RkbPUsIrwZZi"
      },
      "source": [
        "The training process is conducted over several iterations (*epochs*). During each epoch, the model learns\n",
        "parameters to make better predictions. We print the model's accuracy and loss at each epoch; we'd like to see the\n",
        "accuracy increase and the loss decrease with every epoch.\n",
        "\n"
      ]
    },
    {
      "cell_type": "code",
      "execution_count": 34,
      "metadata": {
        "colab": {
          "base_uri": "https://localhost:8080/"
        },
        "id": "nnhQMu29wZZi",
        "outputId": "30c9ef55-c711-412e-8d17-566710def985"
      },
      "outputs": [
        {
          "output_type": "stream",
          "name": "stdout",
          "text": [
            "Using cpu device\n",
            "Epoch 1\n",
            "loss: 0.477743  [    0/60000]\n",
            "loss: 0.512421  [10000/60000]\n",
            "loss: 0.507345  [20000/60000]\n",
            "loss: 0.581045  [30000/60000]\n",
            "loss: 0.553469  [40000/60000]\n",
            "loss: 0.633890  [50000/60000]\n",
            "Test Error: \n",
            " Accuracy: 78.7%, Avg loss: 0.599006 \n",
            "\n",
            "Epoch 2\n",
            "loss: 0.471406  [    0/60000]\n",
            "loss: 0.507071  [10000/60000]\n",
            "loss: 0.500572  [20000/60000]\n",
            "loss: 0.576179  [30000/60000]\n",
            "loss: 0.550421  [40000/60000]\n",
            "loss: 0.628367  [50000/60000]\n",
            "Test Error: \n",
            " Accuracy: 78.9%, Avg loss: 0.594100 \n",
            "\n",
            "Epoch 3\n",
            "loss: 0.465335  [    0/60000]\n",
            "loss: 0.501790  [10000/60000]\n",
            "loss: 0.494226  [20000/60000]\n",
            "loss: 0.571459  [30000/60000]\n",
            "loss: 0.547516  [40000/60000]\n",
            "loss: 0.622993  [50000/60000]\n",
            "Test Error: \n",
            " Accuracy: 79.1%, Avg loss: 0.589402 \n",
            "\n",
            "Epoch 4\n",
            "loss: 0.459477  [    0/60000]\n",
            "loss: 0.496647  [10000/60000]\n",
            "loss: 0.488237  [20000/60000]\n",
            "loss: 0.566821  [30000/60000]\n",
            "loss: 0.544736  [40000/60000]\n",
            "loss: 0.617815  [50000/60000]\n",
            "Test Error: \n",
            " Accuracy: 79.3%, Avg loss: 0.584889 \n",
            "\n",
            "Epoch 5\n",
            "loss: 0.453840  [    0/60000]\n",
            "loss: 0.491621  [10000/60000]\n",
            "loss: 0.482582  [20000/60000]\n",
            "loss: 0.562303  [30000/60000]\n",
            "loss: 0.542087  [40000/60000]\n",
            "loss: 0.612787  [50000/60000]\n",
            "Test Error: \n",
            " Accuracy: 79.5%, Avg loss: 0.580557 \n",
            "\n",
            "Epoch 6\n",
            "loss: 0.448368  [    0/60000]\n",
            "loss: 0.486728  [10000/60000]\n",
            "loss: 0.477229  [20000/60000]\n",
            "loss: 0.557865  [30000/60000]\n",
            "loss: 0.539549  [40000/60000]\n",
            "loss: 0.607880  [50000/60000]\n",
            "Test Error: \n",
            " Accuracy: 79.6%, Avg loss: 0.576384 \n",
            "\n",
            "Epoch 7\n",
            "loss: 0.443103  [    0/60000]\n",
            "loss: 0.481916  [10000/60000]\n",
            "loss: 0.472155  [20000/60000]\n",
            "loss: 0.553544  [30000/60000]\n",
            "loss: 0.537183  [40000/60000]\n",
            "loss: 0.603092  [50000/60000]\n",
            "Test Error: \n",
            " Accuracy: 79.7%, Avg loss: 0.572362 \n",
            "\n",
            "Epoch 8\n",
            "loss: 0.437986  [    0/60000]\n",
            "loss: 0.477179  [10000/60000]\n",
            "loss: 0.467298  [20000/60000]\n",
            "loss: 0.549285  [30000/60000]\n",
            "loss: 0.534900  [40000/60000]\n",
            "loss: 0.598376  [50000/60000]\n",
            "Test Error: \n",
            " Accuracy: 80.0%, Avg loss: 0.568479 \n",
            "\n",
            "Epoch 9\n",
            "loss: 0.433003  [    0/60000]\n",
            "loss: 0.472509  [10000/60000]\n",
            "loss: 0.462683  [20000/60000]\n",
            "loss: 0.545178  [30000/60000]\n",
            "loss: 0.532722  [40000/60000]\n",
            "loss: 0.593788  [50000/60000]\n",
            "Test Error: \n",
            " Accuracy: 80.0%, Avg loss: 0.564727 \n",
            "\n",
            "Epoch 10\n",
            "loss: 0.428148  [    0/60000]\n",
            "loss: 0.467906  [10000/60000]\n",
            "loss: 0.458299  [20000/60000]\n",
            "loss: 0.541212  [30000/60000]\n",
            "loss: 0.530622  [40000/60000]\n",
            "loss: 0.589253  [50000/60000]\n",
            "Test Error: \n",
            " Accuracy: 80.2%, Avg loss: 0.561103 \n",
            "\n",
            "Epoch 11\n",
            "loss: 0.423397  [    0/60000]\n",
            "loss: 0.463371  [10000/60000]\n",
            "loss: 0.454101  [20000/60000]\n",
            "loss: 0.537386  [30000/60000]\n",
            "loss: 0.528603  [40000/60000]\n",
            "loss: 0.584824  [50000/60000]\n",
            "Test Error: \n",
            " Accuracy: 80.2%, Avg loss: 0.557597 \n",
            "\n",
            "Epoch 12\n",
            "loss: 0.418824  [    0/60000]\n",
            "loss: 0.458919  [10000/60000]\n",
            "loss: 0.450060  [20000/60000]\n",
            "loss: 0.533699  [30000/60000]\n",
            "loss: 0.526707  [40000/60000]\n",
            "loss: 0.580520  [50000/60000]\n",
            "Test Error: \n",
            " Accuracy: 80.3%, Avg loss: 0.554203 \n",
            "\n",
            "Epoch 13\n",
            "loss: 0.414394  [    0/60000]\n",
            "loss: 0.454524  [10000/60000]\n",
            "loss: 0.446189  [20000/60000]\n",
            "loss: 0.530195  [30000/60000]\n",
            "loss: 0.524891  [40000/60000]\n",
            "loss: 0.576337  [50000/60000]\n",
            "Test Error: \n",
            " Accuracy: 80.5%, Avg loss: 0.550918 \n",
            "\n",
            "Epoch 14\n",
            "loss: 0.410113  [    0/60000]\n",
            "loss: 0.450157  [10000/60000]\n",
            "loss: 0.442461  [20000/60000]\n",
            "loss: 0.526838  [30000/60000]\n",
            "loss: 0.523141  [40000/60000]\n",
            "loss: 0.572221  [50000/60000]\n",
            "Test Error: \n",
            " Accuracy: 80.7%, Avg loss: 0.547727 \n",
            "\n",
            "Epoch 15\n",
            "loss: 0.405985  [    0/60000]\n",
            "loss: 0.445907  [10000/60000]\n",
            "loss: 0.438910  [20000/60000]\n",
            "loss: 0.523633  [30000/60000]\n",
            "loss: 0.521459  [40000/60000]\n",
            "loss: 0.568225  [50000/60000]\n",
            "Test Error: \n",
            " Accuracy: 80.7%, Avg loss: 0.544638 \n",
            "\n",
            "Epoch 16\n",
            "loss: 0.401973  [    0/60000]\n",
            "loss: 0.441805  [10000/60000]\n",
            "loss: 0.435525  [20000/60000]\n",
            "loss: 0.520556  [30000/60000]\n",
            "loss: 0.519903  [40000/60000]\n",
            "loss: 0.564339  [50000/60000]\n",
            "Test Error: \n",
            " Accuracy: 80.8%, Avg loss: 0.541642 \n",
            "\n",
            "Epoch 17\n",
            "loss: 0.398046  [    0/60000]\n",
            "loss: 0.437821  [10000/60000]\n",
            "loss: 0.432310  [20000/60000]\n",
            "loss: 0.517631  [30000/60000]\n",
            "loss: 0.518394  [40000/60000]\n",
            "loss: 0.560592  [50000/60000]\n",
            "Test Error: \n",
            " Accuracy: 80.8%, Avg loss: 0.538739 \n",
            "\n",
            "Epoch 18\n",
            "loss: 0.394253  [    0/60000]\n",
            "loss: 0.433970  [10000/60000]\n",
            "loss: 0.429258  [20000/60000]\n",
            "loss: 0.514830  [30000/60000]\n",
            "loss: 0.516993  [40000/60000]\n",
            "loss: 0.556889  [50000/60000]\n",
            "Test Error: \n",
            " Accuracy: 80.9%, Avg loss: 0.535921 \n",
            "\n",
            "Epoch 19\n",
            "loss: 0.390549  [    0/60000]\n",
            "loss: 0.430193  [10000/60000]\n",
            "loss: 0.426336  [20000/60000]\n",
            "loss: 0.512201  [30000/60000]\n",
            "loss: 0.515746  [40000/60000]\n",
            "loss: 0.553274  [50000/60000]\n",
            "Test Error: \n",
            " Accuracy: 81.0%, Avg loss: 0.533190 \n",
            "\n",
            "Epoch 20\n",
            "loss: 0.386907  [    0/60000]\n",
            "loss: 0.426547  [10000/60000]\n",
            "loss: 0.423519  [20000/60000]\n",
            "loss: 0.509671  [30000/60000]\n",
            "loss: 0.514573  [40000/60000]\n",
            "loss: 0.549720  [50000/60000]\n",
            "Test Error: \n",
            " Accuracy: 81.0%, Avg loss: 0.530526 \n",
            "\n",
            "Time needed: 30.779573690891265\n"
          ]
        }
      ],
      "source": [
        "import time\n",
        "device = \"cuda\" if torch.cuda.is_available() else \"cpu\"\n",
        "print(f\"Using {device} device\")\n",
        "epochs = 20\n",
        "# torch.cuda.synchronize()\n",
        "times = []\n",
        "for t in range(epochs):\n",
        "    print(f\"Epoch {t+1}\")\n",
        "    start_epoch = time.time()\n",
        "    train(train_dataloader, arch4, loss_fn, optimizer)\n",
        "    # torch.cuda.synchronize()\n",
        "    end_epoch = time.time()\n",
        "    elapsed = end_epoch - start_epoch\n",
        "    times.append(elapsed)\n",
        "    test(test_dataloader, arch4, loss_fn)\n",
        "# print(\"Done!\")\n",
        "avg_time = sum(times)/epochs\n",
        "print(\"Time needed: \" + str(avg_time))"
      ]
    },
    {
      "cell_type": "code",
      "source": [
        "test_on_100(test_dataloader, arch1)\n",
        "test_on_100(test_dataloader, arch2)\n",
        "test_on_100(test_dataloader, arch3)\n",
        "test_on_100(test_dataloader, arch4)"
      ],
      "metadata": {
        "colab": {
          "base_uri": "https://localhost:8080/"
        },
        "id": "Lz7XgZkRMYd1",
        "outputId": "4ff7207c-af70-458d-a919-6d32dfb7de37"
      },
      "execution_count": 23,
      "outputs": [
        {
          "output_type": "stream",
          "name": "stdout",
          "text": [
            "Correct: 71.0\n",
            "MCR: 0.29000000000000004\n",
            "Correct: 67.0\n",
            "MCR: 0.32999999999999996\n",
            "Correct: 71.0\n",
            "MCR: 0.29000000000000004\n",
            "Correct: 71.0\n",
            "MCR: 0.29000000000000004\n"
          ]
        }
      ]
    },
    {
      "cell_type": "markdown",
      "metadata": {
        "id": "oZrQq1UwwZZi"
      },
      "source": [
        "Read more about [Training your model](optimization_tutorial.html).\n",
        "\n",
        "\n"
      ]
    },
    {
      "cell_type": "markdown",
      "metadata": {
        "id": "1OxKaxfnwZZi"
      },
      "source": [
        "--------------\n",
        "\n",
        "\n"
      ]
    },
    {
      "cell_type": "markdown",
      "metadata": {
        "id": "kVlz7P-8wZZi"
      },
      "source": [
        "## Saving Models\n",
        "A common way to save a model is to serialize the internal state dictionary (containing the model parameters).\n",
        "\n"
      ]
    },
    {
      "cell_type": "code",
      "execution_count": null,
      "metadata": {
        "id": "uCYTj7gjwZZi"
      },
      "outputs": [],
      "source": [
        "torch.save(model.state_dict(), \"model.pth\")\n",
        "print(\"Saved PyTorch Model State to model.pth\")"
      ]
    },
    {
      "cell_type": "markdown",
      "metadata": {
        "id": "f6NDwjxxwZZj"
      },
      "source": [
        "## Loading Models\n",
        "\n",
        "The process for loading a model includes re-creating the model structure and loading\n",
        "the state dictionary into it.\n",
        "\n"
      ]
    },
    {
      "cell_type": "code",
      "execution_count": null,
      "metadata": {
        "id": "960LXbRHwZZj"
      },
      "outputs": [],
      "source": [
        "model = NeuralNetwork()\n",
        "model.load_state_dict(torch.load(\"model.pth\"))"
      ]
    },
    {
      "cell_type": "markdown",
      "metadata": {
        "id": "516iy85rwZZj"
      },
      "source": [
        "This model can now be used to make predictions.\n",
        "\n"
      ]
    },
    {
      "cell_type": "code",
      "execution_count": null,
      "metadata": {
        "id": "p8pK6X4xwZZj"
      },
      "outputs": [],
      "source": [
        "classes = [\n",
        "    \"T-shirt/top\",\n",
        "    \"Trouser\",\n",
        "    \"Pullover\",\n",
        "    \"Dress\",\n",
        "    \"Coat\",\n",
        "    \"Sandal\",\n",
        "    \"Shirt\",\n",
        "    \"Sneaker\",\n",
        "    \"Bag\",\n",
        "    \"Ankle boot\",\n",
        "]\n",
        "\n",
        "model.eval()\n",
        "x, y = test_data[0][0], test_data[0][1]\n",
        "with torch.no_grad():\n",
        "    pred = model(x)\n",
        "    predicted, actual = classes[pred[0].argmax(0)], classes[y]\n",
        "    print(f'Predicted: \"{predicted}\", Actual: \"{actual}\"')"
      ]
    },
    {
      "cell_type": "markdown",
      "metadata": {
        "id": "i1F1fnu-wZZj"
      },
      "source": [
        "Read more about [Saving & Loading your model](saveloadrun_tutorial.html).\n",
        "\n",
        "\n"
      ]
    }
  ],
  "metadata": {
    "kernelspec": {
      "display_name": "Python 3",
      "language": "python",
      "name": "python3"
    },
    "language_info": {
      "codemirror_mode": {
        "name": "ipython",
        "version": 3
      },
      "file_extension": ".py",
      "mimetype": "text/x-python",
      "name": "python",
      "nbconvert_exporter": "python",
      "pygments_lexer": "ipython3",
      "version": "3.10.4"
    },
    "colab": {
      "provenance": [],
      "collapsed_sections": [],
      "include_colab_link": true
    }
  },
  "nbformat": 4,
  "nbformat_minor": 0
}